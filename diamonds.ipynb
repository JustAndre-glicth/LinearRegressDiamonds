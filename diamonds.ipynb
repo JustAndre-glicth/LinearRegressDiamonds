{
  "nbformat": 4,
  "nbformat_minor": 0,
  "metadata": {
    "colab": {
      "name": "diamonds.ipynb",
      "provenance": [],
      "toc_visible": true
    },
    "kernelspec": {
      "name": "python3",
      "display_name": "Python 3"
    }
  },
  "cells": [
    {
      "cell_type": "markdown",
      "metadata": {
        "id": "1gPPvSxV4srh"
      },
      "source": [
        "# Mounting"
      ]
    },
    {
      "cell_type": "code",
      "metadata": {
        "colab": {
          "base_uri": "https://localhost:8080/"
        },
        "id": "aFxfVe7l4RDW",
        "outputId": "36763bd9-591e-4048-cd43-4c6f746c2e0f"
      },
      "source": [
        "from google.colab import drive\r\n",
        "drive.mount('/content/drive')"
      ],
      "execution_count": 1,
      "outputs": [
        {
          "output_type": "stream",
          "text": [
            "Drive already mounted at /content/drive; to attempt to forcibly remount, call drive.mount(\"/content/drive\", force_remount=True).\n"
          ],
          "name": "stdout"
        }
      ]
    },
    {
      "cell_type": "markdown",
      "metadata": {
        "id": "7KyCbzFL4xH0"
      },
      "source": [
        "# Imports"
      ]
    },
    {
      "cell_type": "code",
      "metadata": {
        "id": "3QspPnh_4zh3"
      },
      "source": [
        "# Imports\r\n",
        "import pandas as pd\r\n",
        "import numpy as np\r\n",
        "import matplotlib.pyplot as plt\r\n",
        "import seaborn as sns"
      ],
      "execution_count": 2,
      "outputs": []
    },
    {
      "cell_type": "code",
      "metadata": {
        "colab": {
          "base_uri": "https://localhost:8080/",
          "height": 1000
        },
        "id": "qCGwqz5M41sq",
        "outputId": "db8f27a7-c7f5-4902-c9ab-2826b0df7257"
      },
      "source": [
        "# Load Data\r\n",
        "df = pd.read_csv('/content/drive/MyDrive/PTDataScience/PandasForDataManipulation/diamonds.csv')\r\n",
        "df.head(44)"
      ],
      "execution_count": 3,
      "outputs": [
        {
          "output_type": "execute_result",
          "data": {
            "text/html": [
              "<div>\n",
              "<style scoped>\n",
              "    .dataframe tbody tr th:only-of-type {\n",
              "        vertical-align: middle;\n",
              "    }\n",
              "\n",
              "    .dataframe tbody tr th {\n",
              "        vertical-align: top;\n",
              "    }\n",
              "\n",
              "    .dataframe thead th {\n",
              "        text-align: right;\n",
              "    }\n",
              "</style>\n",
              "<table border=\"1\" class=\"dataframe\">\n",
              "  <thead>\n",
              "    <tr style=\"text-align: right;\">\n",
              "      <th></th>\n",
              "      <th>Unnamed: 0</th>\n",
              "      <th>carat</th>\n",
              "      <th>cut</th>\n",
              "      <th>color</th>\n",
              "      <th>clarity</th>\n",
              "      <th>depth</th>\n",
              "      <th>table</th>\n",
              "      <th>price</th>\n",
              "      <th>x</th>\n",
              "      <th>y</th>\n",
              "      <th>z</th>\n",
              "    </tr>\n",
              "  </thead>\n",
              "  <tbody>\n",
              "    <tr>\n",
              "      <th>0</th>\n",
              "      <td>1</td>\n",
              "      <td>0.23</td>\n",
              "      <td>Ideal</td>\n",
              "      <td>E</td>\n",
              "      <td>SI2</td>\n",
              "      <td>61.5</td>\n",
              "      <td>55.0</td>\n",
              "      <td>326</td>\n",
              "      <td>3.95</td>\n",
              "      <td>3.98</td>\n",
              "      <td>2.43</td>\n",
              "    </tr>\n",
              "    <tr>\n",
              "      <th>1</th>\n",
              "      <td>2</td>\n",
              "      <td>0.21</td>\n",
              "      <td>Premium</td>\n",
              "      <td>E</td>\n",
              "      <td>SI1</td>\n",
              "      <td>59.8</td>\n",
              "      <td>61.0</td>\n",
              "      <td>326</td>\n",
              "      <td>3.89</td>\n",
              "      <td>3.84</td>\n",
              "      <td>2.31</td>\n",
              "    </tr>\n",
              "    <tr>\n",
              "      <th>2</th>\n",
              "      <td>3</td>\n",
              "      <td>0.23</td>\n",
              "      <td>Good</td>\n",
              "      <td>E</td>\n",
              "      <td>VS1</td>\n",
              "      <td>56.9</td>\n",
              "      <td>65.0</td>\n",
              "      <td>327</td>\n",
              "      <td>4.05</td>\n",
              "      <td>4.07</td>\n",
              "      <td>2.31</td>\n",
              "    </tr>\n",
              "    <tr>\n",
              "      <th>3</th>\n",
              "      <td>4</td>\n",
              "      <td>0.29</td>\n",
              "      <td>Premium</td>\n",
              "      <td>I</td>\n",
              "      <td>VS2</td>\n",
              "      <td>62.4</td>\n",
              "      <td>58.0</td>\n",
              "      <td>334</td>\n",
              "      <td>4.20</td>\n",
              "      <td>4.23</td>\n",
              "      <td>2.63</td>\n",
              "    </tr>\n",
              "    <tr>\n",
              "      <th>4</th>\n",
              "      <td>5</td>\n",
              "      <td>0.31</td>\n",
              "      <td>Good</td>\n",
              "      <td>J</td>\n",
              "      <td>SI2</td>\n",
              "      <td>63.3</td>\n",
              "      <td>58.0</td>\n",
              "      <td>335</td>\n",
              "      <td>4.34</td>\n",
              "      <td>4.35</td>\n",
              "      <td>2.75</td>\n",
              "    </tr>\n",
              "    <tr>\n",
              "      <th>5</th>\n",
              "      <td>6</td>\n",
              "      <td>0.24</td>\n",
              "      <td>Very Good</td>\n",
              "      <td>J</td>\n",
              "      <td>VVS2</td>\n",
              "      <td>62.8</td>\n",
              "      <td>57.0</td>\n",
              "      <td>336</td>\n",
              "      <td>3.94</td>\n",
              "      <td>3.96</td>\n",
              "      <td>2.48</td>\n",
              "    </tr>\n",
              "    <tr>\n",
              "      <th>6</th>\n",
              "      <td>7</td>\n",
              "      <td>0.24</td>\n",
              "      <td>Very Good</td>\n",
              "      <td>I</td>\n",
              "      <td>VVS1</td>\n",
              "      <td>62.3</td>\n",
              "      <td>57.0</td>\n",
              "      <td>336</td>\n",
              "      <td>3.95</td>\n",
              "      <td>3.98</td>\n",
              "      <td>2.47</td>\n",
              "    </tr>\n",
              "    <tr>\n",
              "      <th>7</th>\n",
              "      <td>8</td>\n",
              "      <td>0.26</td>\n",
              "      <td>Very Good</td>\n",
              "      <td>H</td>\n",
              "      <td>SI1</td>\n",
              "      <td>61.9</td>\n",
              "      <td>55.0</td>\n",
              "      <td>337</td>\n",
              "      <td>4.07</td>\n",
              "      <td>4.11</td>\n",
              "      <td>2.53</td>\n",
              "    </tr>\n",
              "    <tr>\n",
              "      <th>8</th>\n",
              "      <td>9</td>\n",
              "      <td>0.22</td>\n",
              "      <td>Fair</td>\n",
              "      <td>E</td>\n",
              "      <td>VS2</td>\n",
              "      <td>65.1</td>\n",
              "      <td>61.0</td>\n",
              "      <td>337</td>\n",
              "      <td>3.87</td>\n",
              "      <td>3.78</td>\n",
              "      <td>2.49</td>\n",
              "    </tr>\n",
              "    <tr>\n",
              "      <th>9</th>\n",
              "      <td>10</td>\n",
              "      <td>0.23</td>\n",
              "      <td>Very Good</td>\n",
              "      <td>H</td>\n",
              "      <td>VS1</td>\n",
              "      <td>59.4</td>\n",
              "      <td>61.0</td>\n",
              "      <td>338</td>\n",
              "      <td>4.00</td>\n",
              "      <td>4.05</td>\n",
              "      <td>2.39</td>\n",
              "    </tr>\n",
              "    <tr>\n",
              "      <th>10</th>\n",
              "      <td>11</td>\n",
              "      <td>0.30</td>\n",
              "      <td>Good</td>\n",
              "      <td>J</td>\n",
              "      <td>SI1</td>\n",
              "      <td>64.0</td>\n",
              "      <td>55.0</td>\n",
              "      <td>339</td>\n",
              "      <td>4.25</td>\n",
              "      <td>4.28</td>\n",
              "      <td>2.73</td>\n",
              "    </tr>\n",
              "    <tr>\n",
              "      <th>11</th>\n",
              "      <td>12</td>\n",
              "      <td>0.23</td>\n",
              "      <td>Ideal</td>\n",
              "      <td>J</td>\n",
              "      <td>VS1</td>\n",
              "      <td>62.8</td>\n",
              "      <td>56.0</td>\n",
              "      <td>340</td>\n",
              "      <td>3.93</td>\n",
              "      <td>3.90</td>\n",
              "      <td>2.46</td>\n",
              "    </tr>\n",
              "    <tr>\n",
              "      <th>12</th>\n",
              "      <td>13</td>\n",
              "      <td>0.22</td>\n",
              "      <td>Premium</td>\n",
              "      <td>F</td>\n",
              "      <td>SI1</td>\n",
              "      <td>60.4</td>\n",
              "      <td>61.0</td>\n",
              "      <td>342</td>\n",
              "      <td>3.88</td>\n",
              "      <td>3.84</td>\n",
              "      <td>2.33</td>\n",
              "    </tr>\n",
              "    <tr>\n",
              "      <th>13</th>\n",
              "      <td>14</td>\n",
              "      <td>0.31</td>\n",
              "      <td>Ideal</td>\n",
              "      <td>J</td>\n",
              "      <td>SI2</td>\n",
              "      <td>62.2</td>\n",
              "      <td>54.0</td>\n",
              "      <td>344</td>\n",
              "      <td>4.35</td>\n",
              "      <td>4.37</td>\n",
              "      <td>2.71</td>\n",
              "    </tr>\n",
              "    <tr>\n",
              "      <th>14</th>\n",
              "      <td>15</td>\n",
              "      <td>0.20</td>\n",
              "      <td>Premium</td>\n",
              "      <td>E</td>\n",
              "      <td>SI2</td>\n",
              "      <td>60.2</td>\n",
              "      <td>62.0</td>\n",
              "      <td>345</td>\n",
              "      <td>3.79</td>\n",
              "      <td>3.75</td>\n",
              "      <td>2.27</td>\n",
              "    </tr>\n",
              "    <tr>\n",
              "      <th>15</th>\n",
              "      <td>16</td>\n",
              "      <td>0.32</td>\n",
              "      <td>Premium</td>\n",
              "      <td>E</td>\n",
              "      <td>I1</td>\n",
              "      <td>60.9</td>\n",
              "      <td>58.0</td>\n",
              "      <td>345</td>\n",
              "      <td>4.38</td>\n",
              "      <td>4.42</td>\n",
              "      <td>2.68</td>\n",
              "    </tr>\n",
              "    <tr>\n",
              "      <th>16</th>\n",
              "      <td>17</td>\n",
              "      <td>0.30</td>\n",
              "      <td>Ideal</td>\n",
              "      <td>I</td>\n",
              "      <td>SI2</td>\n",
              "      <td>62.0</td>\n",
              "      <td>54.0</td>\n",
              "      <td>348</td>\n",
              "      <td>4.31</td>\n",
              "      <td>4.34</td>\n",
              "      <td>2.68</td>\n",
              "    </tr>\n",
              "    <tr>\n",
              "      <th>17</th>\n",
              "      <td>18</td>\n",
              "      <td>0.30</td>\n",
              "      <td>Good</td>\n",
              "      <td>J</td>\n",
              "      <td>SI1</td>\n",
              "      <td>63.4</td>\n",
              "      <td>54.0</td>\n",
              "      <td>351</td>\n",
              "      <td>4.23</td>\n",
              "      <td>4.29</td>\n",
              "      <td>2.70</td>\n",
              "    </tr>\n",
              "    <tr>\n",
              "      <th>18</th>\n",
              "      <td>19</td>\n",
              "      <td>0.30</td>\n",
              "      <td>Good</td>\n",
              "      <td>J</td>\n",
              "      <td>SI1</td>\n",
              "      <td>63.8</td>\n",
              "      <td>56.0</td>\n",
              "      <td>351</td>\n",
              "      <td>4.23</td>\n",
              "      <td>4.26</td>\n",
              "      <td>2.71</td>\n",
              "    </tr>\n",
              "    <tr>\n",
              "      <th>19</th>\n",
              "      <td>20</td>\n",
              "      <td>0.30</td>\n",
              "      <td>Very Good</td>\n",
              "      <td>J</td>\n",
              "      <td>SI1</td>\n",
              "      <td>62.7</td>\n",
              "      <td>59.0</td>\n",
              "      <td>351</td>\n",
              "      <td>4.21</td>\n",
              "      <td>4.27</td>\n",
              "      <td>2.66</td>\n",
              "    </tr>\n",
              "    <tr>\n",
              "      <th>20</th>\n",
              "      <td>21</td>\n",
              "      <td>0.30</td>\n",
              "      <td>Good</td>\n",
              "      <td>I</td>\n",
              "      <td>SI2</td>\n",
              "      <td>63.3</td>\n",
              "      <td>56.0</td>\n",
              "      <td>351</td>\n",
              "      <td>4.26</td>\n",
              "      <td>4.30</td>\n",
              "      <td>2.71</td>\n",
              "    </tr>\n",
              "    <tr>\n",
              "      <th>21</th>\n",
              "      <td>22</td>\n",
              "      <td>0.23</td>\n",
              "      <td>Very Good</td>\n",
              "      <td>E</td>\n",
              "      <td>VS2</td>\n",
              "      <td>63.8</td>\n",
              "      <td>55.0</td>\n",
              "      <td>352</td>\n",
              "      <td>3.85</td>\n",
              "      <td>3.92</td>\n",
              "      <td>2.48</td>\n",
              "    </tr>\n",
              "    <tr>\n",
              "      <th>22</th>\n",
              "      <td>23</td>\n",
              "      <td>0.23</td>\n",
              "      <td>Very Good</td>\n",
              "      <td>H</td>\n",
              "      <td>VS1</td>\n",
              "      <td>61.0</td>\n",
              "      <td>57.0</td>\n",
              "      <td>353</td>\n",
              "      <td>3.94</td>\n",
              "      <td>3.96</td>\n",
              "      <td>2.41</td>\n",
              "    </tr>\n",
              "    <tr>\n",
              "      <th>23</th>\n",
              "      <td>24</td>\n",
              "      <td>0.31</td>\n",
              "      <td>Very Good</td>\n",
              "      <td>J</td>\n",
              "      <td>SI1</td>\n",
              "      <td>59.4</td>\n",
              "      <td>62.0</td>\n",
              "      <td>353</td>\n",
              "      <td>4.39</td>\n",
              "      <td>4.43</td>\n",
              "      <td>2.62</td>\n",
              "    </tr>\n",
              "    <tr>\n",
              "      <th>24</th>\n",
              "      <td>25</td>\n",
              "      <td>0.31</td>\n",
              "      <td>Very Good</td>\n",
              "      <td>J</td>\n",
              "      <td>SI1</td>\n",
              "      <td>58.1</td>\n",
              "      <td>62.0</td>\n",
              "      <td>353</td>\n",
              "      <td>4.44</td>\n",
              "      <td>4.47</td>\n",
              "      <td>2.59</td>\n",
              "    </tr>\n",
              "    <tr>\n",
              "      <th>25</th>\n",
              "      <td>26</td>\n",
              "      <td>0.23</td>\n",
              "      <td>Very Good</td>\n",
              "      <td>G</td>\n",
              "      <td>VVS2</td>\n",
              "      <td>60.4</td>\n",
              "      <td>58.0</td>\n",
              "      <td>354</td>\n",
              "      <td>3.97</td>\n",
              "      <td>4.01</td>\n",
              "      <td>2.41</td>\n",
              "    </tr>\n",
              "    <tr>\n",
              "      <th>26</th>\n",
              "      <td>27</td>\n",
              "      <td>0.24</td>\n",
              "      <td>Premium</td>\n",
              "      <td>I</td>\n",
              "      <td>VS1</td>\n",
              "      <td>62.5</td>\n",
              "      <td>57.0</td>\n",
              "      <td>355</td>\n",
              "      <td>3.97</td>\n",
              "      <td>3.94</td>\n",
              "      <td>2.47</td>\n",
              "    </tr>\n",
              "    <tr>\n",
              "      <th>27</th>\n",
              "      <td>28</td>\n",
              "      <td>0.30</td>\n",
              "      <td>Very Good</td>\n",
              "      <td>J</td>\n",
              "      <td>VS2</td>\n",
              "      <td>62.2</td>\n",
              "      <td>57.0</td>\n",
              "      <td>357</td>\n",
              "      <td>4.28</td>\n",
              "      <td>4.30</td>\n",
              "      <td>2.67</td>\n",
              "    </tr>\n",
              "    <tr>\n",
              "      <th>28</th>\n",
              "      <td>29</td>\n",
              "      <td>0.23</td>\n",
              "      <td>Very Good</td>\n",
              "      <td>D</td>\n",
              "      <td>VS2</td>\n",
              "      <td>60.5</td>\n",
              "      <td>61.0</td>\n",
              "      <td>357</td>\n",
              "      <td>3.96</td>\n",
              "      <td>3.97</td>\n",
              "      <td>2.40</td>\n",
              "    </tr>\n",
              "    <tr>\n",
              "      <th>29</th>\n",
              "      <td>30</td>\n",
              "      <td>0.23</td>\n",
              "      <td>Very Good</td>\n",
              "      <td>F</td>\n",
              "      <td>VS1</td>\n",
              "      <td>60.9</td>\n",
              "      <td>57.0</td>\n",
              "      <td>357</td>\n",
              "      <td>3.96</td>\n",
              "      <td>3.99</td>\n",
              "      <td>2.42</td>\n",
              "    </tr>\n",
              "    <tr>\n",
              "      <th>30</th>\n",
              "      <td>31</td>\n",
              "      <td>0.23</td>\n",
              "      <td>Very Good</td>\n",
              "      <td>F</td>\n",
              "      <td>VS1</td>\n",
              "      <td>60.0</td>\n",
              "      <td>57.0</td>\n",
              "      <td>402</td>\n",
              "      <td>4.00</td>\n",
              "      <td>4.03</td>\n",
              "      <td>2.41</td>\n",
              "    </tr>\n",
              "    <tr>\n",
              "      <th>31</th>\n",
              "      <td>32</td>\n",
              "      <td>0.23</td>\n",
              "      <td>Very Good</td>\n",
              "      <td>F</td>\n",
              "      <td>VS1</td>\n",
              "      <td>59.8</td>\n",
              "      <td>57.0</td>\n",
              "      <td>402</td>\n",
              "      <td>4.04</td>\n",
              "      <td>4.06</td>\n",
              "      <td>2.42</td>\n",
              "    </tr>\n",
              "    <tr>\n",
              "      <th>32</th>\n",
              "      <td>33</td>\n",
              "      <td>0.23</td>\n",
              "      <td>Very Good</td>\n",
              "      <td>E</td>\n",
              "      <td>VS1</td>\n",
              "      <td>60.7</td>\n",
              "      <td>59.0</td>\n",
              "      <td>402</td>\n",
              "      <td>3.97</td>\n",
              "      <td>4.01</td>\n",
              "      <td>2.42</td>\n",
              "    </tr>\n",
              "    <tr>\n",
              "      <th>33</th>\n",
              "      <td>34</td>\n",
              "      <td>0.23</td>\n",
              "      <td>Very Good</td>\n",
              "      <td>E</td>\n",
              "      <td>VS1</td>\n",
              "      <td>59.5</td>\n",
              "      <td>58.0</td>\n",
              "      <td>402</td>\n",
              "      <td>4.01</td>\n",
              "      <td>4.06</td>\n",
              "      <td>2.40</td>\n",
              "    </tr>\n",
              "    <tr>\n",
              "      <th>34</th>\n",
              "      <td>35</td>\n",
              "      <td>0.23</td>\n",
              "      <td>Very Good</td>\n",
              "      <td>D</td>\n",
              "      <td>VS1</td>\n",
              "      <td>61.9</td>\n",
              "      <td>58.0</td>\n",
              "      <td>402</td>\n",
              "      <td>3.92</td>\n",
              "      <td>3.96</td>\n",
              "      <td>2.44</td>\n",
              "    </tr>\n",
              "    <tr>\n",
              "      <th>35</th>\n",
              "      <td>36</td>\n",
              "      <td>0.23</td>\n",
              "      <td>Good</td>\n",
              "      <td>F</td>\n",
              "      <td>VS1</td>\n",
              "      <td>58.2</td>\n",
              "      <td>59.0</td>\n",
              "      <td>402</td>\n",
              "      <td>4.06</td>\n",
              "      <td>4.08</td>\n",
              "      <td>2.37</td>\n",
              "    </tr>\n",
              "    <tr>\n",
              "      <th>36</th>\n",
              "      <td>37</td>\n",
              "      <td>0.23</td>\n",
              "      <td>Good</td>\n",
              "      <td>E</td>\n",
              "      <td>VS1</td>\n",
              "      <td>64.1</td>\n",
              "      <td>59.0</td>\n",
              "      <td>402</td>\n",
              "      <td>3.83</td>\n",
              "      <td>3.85</td>\n",
              "      <td>2.46</td>\n",
              "    </tr>\n",
              "    <tr>\n",
              "      <th>37</th>\n",
              "      <td>38</td>\n",
              "      <td>0.31</td>\n",
              "      <td>Good</td>\n",
              "      <td>H</td>\n",
              "      <td>SI1</td>\n",
              "      <td>64.0</td>\n",
              "      <td>54.0</td>\n",
              "      <td>402</td>\n",
              "      <td>4.29</td>\n",
              "      <td>4.31</td>\n",
              "      <td>2.75</td>\n",
              "    </tr>\n",
              "    <tr>\n",
              "      <th>38</th>\n",
              "      <td>39</td>\n",
              "      <td>0.26</td>\n",
              "      <td>Very Good</td>\n",
              "      <td>D</td>\n",
              "      <td>VS2</td>\n",
              "      <td>60.8</td>\n",
              "      <td>59.0</td>\n",
              "      <td>403</td>\n",
              "      <td>4.13</td>\n",
              "      <td>4.16</td>\n",
              "      <td>2.52</td>\n",
              "    </tr>\n",
              "    <tr>\n",
              "      <th>39</th>\n",
              "      <td>40</td>\n",
              "      <td>0.33</td>\n",
              "      <td>Ideal</td>\n",
              "      <td>I</td>\n",
              "      <td>SI2</td>\n",
              "      <td>61.8</td>\n",
              "      <td>55.0</td>\n",
              "      <td>403</td>\n",
              "      <td>4.49</td>\n",
              "      <td>4.51</td>\n",
              "      <td>2.78</td>\n",
              "    </tr>\n",
              "    <tr>\n",
              "      <th>40</th>\n",
              "      <td>41</td>\n",
              "      <td>0.33</td>\n",
              "      <td>Ideal</td>\n",
              "      <td>I</td>\n",
              "      <td>SI2</td>\n",
              "      <td>61.2</td>\n",
              "      <td>56.0</td>\n",
              "      <td>403</td>\n",
              "      <td>4.49</td>\n",
              "      <td>4.50</td>\n",
              "      <td>2.75</td>\n",
              "    </tr>\n",
              "    <tr>\n",
              "      <th>41</th>\n",
              "      <td>42</td>\n",
              "      <td>0.33</td>\n",
              "      <td>Ideal</td>\n",
              "      <td>J</td>\n",
              "      <td>SI1</td>\n",
              "      <td>61.1</td>\n",
              "      <td>56.0</td>\n",
              "      <td>403</td>\n",
              "      <td>4.49</td>\n",
              "      <td>4.55</td>\n",
              "      <td>2.76</td>\n",
              "    </tr>\n",
              "    <tr>\n",
              "      <th>42</th>\n",
              "      <td>43</td>\n",
              "      <td>0.26</td>\n",
              "      <td>Good</td>\n",
              "      <td>D</td>\n",
              "      <td>VS2</td>\n",
              "      <td>65.2</td>\n",
              "      <td>56.0</td>\n",
              "      <td>403</td>\n",
              "      <td>3.99</td>\n",
              "      <td>4.02</td>\n",
              "      <td>2.61</td>\n",
              "    </tr>\n",
              "    <tr>\n",
              "      <th>43</th>\n",
              "      <td>44</td>\n",
              "      <td>0.26</td>\n",
              "      <td>Good</td>\n",
              "      <td>D</td>\n",
              "      <td>VS1</td>\n",
              "      <td>58.4</td>\n",
              "      <td>63.0</td>\n",
              "      <td>403</td>\n",
              "      <td>4.19</td>\n",
              "      <td>4.24</td>\n",
              "      <td>2.46</td>\n",
              "    </tr>\n",
              "  </tbody>\n",
              "</table>\n",
              "</div>"
            ],
            "text/plain": [
              "    Unnamed: 0  carat        cut color clarity  ...  table  price     x     y     z\n",
              "0            1   0.23      Ideal     E     SI2  ...   55.0    326  3.95  3.98  2.43\n",
              "1            2   0.21    Premium     E     SI1  ...   61.0    326  3.89  3.84  2.31\n",
              "2            3   0.23       Good     E     VS1  ...   65.0    327  4.05  4.07  2.31\n",
              "3            4   0.29    Premium     I     VS2  ...   58.0    334  4.20  4.23  2.63\n",
              "4            5   0.31       Good     J     SI2  ...   58.0    335  4.34  4.35  2.75\n",
              "5            6   0.24  Very Good     J    VVS2  ...   57.0    336  3.94  3.96  2.48\n",
              "6            7   0.24  Very Good     I    VVS1  ...   57.0    336  3.95  3.98  2.47\n",
              "7            8   0.26  Very Good     H     SI1  ...   55.0    337  4.07  4.11  2.53\n",
              "8            9   0.22       Fair     E     VS2  ...   61.0    337  3.87  3.78  2.49\n",
              "9           10   0.23  Very Good     H     VS1  ...   61.0    338  4.00  4.05  2.39\n",
              "10          11   0.30       Good     J     SI1  ...   55.0    339  4.25  4.28  2.73\n",
              "11          12   0.23      Ideal     J     VS1  ...   56.0    340  3.93  3.90  2.46\n",
              "12          13   0.22    Premium     F     SI1  ...   61.0    342  3.88  3.84  2.33\n",
              "13          14   0.31      Ideal     J     SI2  ...   54.0    344  4.35  4.37  2.71\n",
              "14          15   0.20    Premium     E     SI2  ...   62.0    345  3.79  3.75  2.27\n",
              "15          16   0.32    Premium     E      I1  ...   58.0    345  4.38  4.42  2.68\n",
              "16          17   0.30      Ideal     I     SI2  ...   54.0    348  4.31  4.34  2.68\n",
              "17          18   0.30       Good     J     SI1  ...   54.0    351  4.23  4.29  2.70\n",
              "18          19   0.30       Good     J     SI1  ...   56.0    351  4.23  4.26  2.71\n",
              "19          20   0.30  Very Good     J     SI1  ...   59.0    351  4.21  4.27  2.66\n",
              "20          21   0.30       Good     I     SI2  ...   56.0    351  4.26  4.30  2.71\n",
              "21          22   0.23  Very Good     E     VS2  ...   55.0    352  3.85  3.92  2.48\n",
              "22          23   0.23  Very Good     H     VS1  ...   57.0    353  3.94  3.96  2.41\n",
              "23          24   0.31  Very Good     J     SI1  ...   62.0    353  4.39  4.43  2.62\n",
              "24          25   0.31  Very Good     J     SI1  ...   62.0    353  4.44  4.47  2.59\n",
              "25          26   0.23  Very Good     G    VVS2  ...   58.0    354  3.97  4.01  2.41\n",
              "26          27   0.24    Premium     I     VS1  ...   57.0    355  3.97  3.94  2.47\n",
              "27          28   0.30  Very Good     J     VS2  ...   57.0    357  4.28  4.30  2.67\n",
              "28          29   0.23  Very Good     D     VS2  ...   61.0    357  3.96  3.97  2.40\n",
              "29          30   0.23  Very Good     F     VS1  ...   57.0    357  3.96  3.99  2.42\n",
              "30          31   0.23  Very Good     F     VS1  ...   57.0    402  4.00  4.03  2.41\n",
              "31          32   0.23  Very Good     F     VS1  ...   57.0    402  4.04  4.06  2.42\n",
              "32          33   0.23  Very Good     E     VS1  ...   59.0    402  3.97  4.01  2.42\n",
              "33          34   0.23  Very Good     E     VS1  ...   58.0    402  4.01  4.06  2.40\n",
              "34          35   0.23  Very Good     D     VS1  ...   58.0    402  3.92  3.96  2.44\n",
              "35          36   0.23       Good     F     VS1  ...   59.0    402  4.06  4.08  2.37\n",
              "36          37   0.23       Good     E     VS1  ...   59.0    402  3.83  3.85  2.46\n",
              "37          38   0.31       Good     H     SI1  ...   54.0    402  4.29  4.31  2.75\n",
              "38          39   0.26  Very Good     D     VS2  ...   59.0    403  4.13  4.16  2.52\n",
              "39          40   0.33      Ideal     I     SI2  ...   55.0    403  4.49  4.51  2.78\n",
              "40          41   0.33      Ideal     I     SI2  ...   56.0    403  4.49  4.50  2.75\n",
              "41          42   0.33      Ideal     J     SI1  ...   56.0    403  4.49  4.55  2.76\n",
              "42          43   0.26       Good     D     VS2  ...   56.0    403  3.99  4.02  2.61\n",
              "43          44   0.26       Good     D     VS1  ...   63.0    403  4.19  4.24  2.46\n",
              "\n",
              "[44 rows x 11 columns]"
            ]
          },
          "metadata": {
            "tags": []
          },
          "execution_count": 3
        }
      ]
    },
    {
      "cell_type": "code",
      "metadata": {
        "id": "BoD9U2ou-Rx1"
      },
      "source": [
        "df.rename(columns={'x': 'length in mm'},inplace=True)\r\n",
        "df.rename(columns={'y': 'width in mm'},inplace=True)\r\n",
        "df.rename(columns={'z': 'depth in mm'},inplace=True)"
      ],
      "execution_count": 4,
      "outputs": []
    },
    {
      "cell_type": "code",
      "metadata": {
        "colab": {
          "base_uri": "https://localhost:8080/",
          "height": 195
        },
        "id": "EipVSdlW_BIt",
        "outputId": "2cc0423a-ee7d-4f9a-a16c-d80ff4872f67"
      },
      "source": [
        "df.head()"
      ],
      "execution_count": 5,
      "outputs": [
        {
          "output_type": "execute_result",
          "data": {
            "text/html": [
              "<div>\n",
              "<style scoped>\n",
              "    .dataframe tbody tr th:only-of-type {\n",
              "        vertical-align: middle;\n",
              "    }\n",
              "\n",
              "    .dataframe tbody tr th {\n",
              "        vertical-align: top;\n",
              "    }\n",
              "\n",
              "    .dataframe thead th {\n",
              "        text-align: right;\n",
              "    }\n",
              "</style>\n",
              "<table border=\"1\" class=\"dataframe\">\n",
              "  <thead>\n",
              "    <tr style=\"text-align: right;\">\n",
              "      <th></th>\n",
              "      <th>Unnamed: 0</th>\n",
              "      <th>carat</th>\n",
              "      <th>cut</th>\n",
              "      <th>color</th>\n",
              "      <th>clarity</th>\n",
              "      <th>depth</th>\n",
              "      <th>table</th>\n",
              "      <th>price</th>\n",
              "      <th>length in mm</th>\n",
              "      <th>width in mm</th>\n",
              "      <th>depth in mm</th>\n",
              "    </tr>\n",
              "  </thead>\n",
              "  <tbody>\n",
              "    <tr>\n",
              "      <th>0</th>\n",
              "      <td>1</td>\n",
              "      <td>0.23</td>\n",
              "      <td>Ideal</td>\n",
              "      <td>E</td>\n",
              "      <td>SI2</td>\n",
              "      <td>61.5</td>\n",
              "      <td>55.0</td>\n",
              "      <td>326</td>\n",
              "      <td>3.95</td>\n",
              "      <td>3.98</td>\n",
              "      <td>2.43</td>\n",
              "    </tr>\n",
              "    <tr>\n",
              "      <th>1</th>\n",
              "      <td>2</td>\n",
              "      <td>0.21</td>\n",
              "      <td>Premium</td>\n",
              "      <td>E</td>\n",
              "      <td>SI1</td>\n",
              "      <td>59.8</td>\n",
              "      <td>61.0</td>\n",
              "      <td>326</td>\n",
              "      <td>3.89</td>\n",
              "      <td>3.84</td>\n",
              "      <td>2.31</td>\n",
              "    </tr>\n",
              "    <tr>\n",
              "      <th>2</th>\n",
              "      <td>3</td>\n",
              "      <td>0.23</td>\n",
              "      <td>Good</td>\n",
              "      <td>E</td>\n",
              "      <td>VS1</td>\n",
              "      <td>56.9</td>\n",
              "      <td>65.0</td>\n",
              "      <td>327</td>\n",
              "      <td>4.05</td>\n",
              "      <td>4.07</td>\n",
              "      <td>2.31</td>\n",
              "    </tr>\n",
              "    <tr>\n",
              "      <th>3</th>\n",
              "      <td>4</td>\n",
              "      <td>0.29</td>\n",
              "      <td>Premium</td>\n",
              "      <td>I</td>\n",
              "      <td>VS2</td>\n",
              "      <td>62.4</td>\n",
              "      <td>58.0</td>\n",
              "      <td>334</td>\n",
              "      <td>4.20</td>\n",
              "      <td>4.23</td>\n",
              "      <td>2.63</td>\n",
              "    </tr>\n",
              "    <tr>\n",
              "      <th>4</th>\n",
              "      <td>5</td>\n",
              "      <td>0.31</td>\n",
              "      <td>Good</td>\n",
              "      <td>J</td>\n",
              "      <td>SI2</td>\n",
              "      <td>63.3</td>\n",
              "      <td>58.0</td>\n",
              "      <td>335</td>\n",
              "      <td>4.34</td>\n",
              "      <td>4.35</td>\n",
              "      <td>2.75</td>\n",
              "    </tr>\n",
              "  </tbody>\n",
              "</table>\n",
              "</div>"
            ],
            "text/plain": [
              "   Unnamed: 0  carat      cut  ... length in mm width in mm  depth in mm\n",
              "0           1   0.23    Ideal  ...         3.95        3.98         2.43\n",
              "1           2   0.21  Premium  ...         3.89        3.84         2.31\n",
              "2           3   0.23     Good  ...         4.05        4.07         2.31\n",
              "3           4   0.29  Premium  ...         4.20        4.23         2.63\n",
              "4           5   0.31     Good  ...         4.34        4.35         2.75\n",
              "\n",
              "[5 rows x 11 columns]"
            ]
          },
          "metadata": {
            "tags": []
          },
          "execution_count": 5
        }
      ]
    },
    {
      "cell_type": "code",
      "metadata": {
        "id": "vCja3pCAA88_"
      },
      "source": [
        "df.drop(columns=[\"Unnamed: 0\"], inplace = True)"
      ],
      "execution_count": 8,
      "outputs": []
    },
    {
      "cell_type": "code",
      "metadata": {
        "colab": {
          "base_uri": "https://localhost:8080/",
          "height": 195
        },
        "id": "eoAn2HyeBTOq",
        "outputId": "af035c1f-cd15-4fa5-ff4e-95cdb0ea2961"
      },
      "source": [
        "df.head()"
      ],
      "execution_count": 9,
      "outputs": [
        {
          "output_type": "execute_result",
          "data": {
            "text/html": [
              "<div>\n",
              "<style scoped>\n",
              "    .dataframe tbody tr th:only-of-type {\n",
              "        vertical-align: middle;\n",
              "    }\n",
              "\n",
              "    .dataframe tbody tr th {\n",
              "        vertical-align: top;\n",
              "    }\n",
              "\n",
              "    .dataframe thead th {\n",
              "        text-align: right;\n",
              "    }\n",
              "</style>\n",
              "<table border=\"1\" class=\"dataframe\">\n",
              "  <thead>\n",
              "    <tr style=\"text-align: right;\">\n",
              "      <th></th>\n",
              "      <th>carat</th>\n",
              "      <th>cut</th>\n",
              "      <th>color</th>\n",
              "      <th>clarity</th>\n",
              "      <th>depth</th>\n",
              "      <th>table</th>\n",
              "      <th>price</th>\n",
              "      <th>length in mm</th>\n",
              "      <th>width in mm</th>\n",
              "      <th>depth in mm</th>\n",
              "    </tr>\n",
              "  </thead>\n",
              "  <tbody>\n",
              "    <tr>\n",
              "      <th>0</th>\n",
              "      <td>0.23</td>\n",
              "      <td>Ideal</td>\n",
              "      <td>E</td>\n",
              "      <td>SI2</td>\n",
              "      <td>61.5</td>\n",
              "      <td>55.0</td>\n",
              "      <td>326</td>\n",
              "      <td>3.95</td>\n",
              "      <td>3.98</td>\n",
              "      <td>2.43</td>\n",
              "    </tr>\n",
              "    <tr>\n",
              "      <th>1</th>\n",
              "      <td>0.21</td>\n",
              "      <td>Premium</td>\n",
              "      <td>E</td>\n",
              "      <td>SI1</td>\n",
              "      <td>59.8</td>\n",
              "      <td>61.0</td>\n",
              "      <td>326</td>\n",
              "      <td>3.89</td>\n",
              "      <td>3.84</td>\n",
              "      <td>2.31</td>\n",
              "    </tr>\n",
              "    <tr>\n",
              "      <th>2</th>\n",
              "      <td>0.23</td>\n",
              "      <td>Good</td>\n",
              "      <td>E</td>\n",
              "      <td>VS1</td>\n",
              "      <td>56.9</td>\n",
              "      <td>65.0</td>\n",
              "      <td>327</td>\n",
              "      <td>4.05</td>\n",
              "      <td>4.07</td>\n",
              "      <td>2.31</td>\n",
              "    </tr>\n",
              "    <tr>\n",
              "      <th>3</th>\n",
              "      <td>0.29</td>\n",
              "      <td>Premium</td>\n",
              "      <td>I</td>\n",
              "      <td>VS2</td>\n",
              "      <td>62.4</td>\n",
              "      <td>58.0</td>\n",
              "      <td>334</td>\n",
              "      <td>4.20</td>\n",
              "      <td>4.23</td>\n",
              "      <td>2.63</td>\n",
              "    </tr>\n",
              "    <tr>\n",
              "      <th>4</th>\n",
              "      <td>0.31</td>\n",
              "      <td>Good</td>\n",
              "      <td>J</td>\n",
              "      <td>SI2</td>\n",
              "      <td>63.3</td>\n",
              "      <td>58.0</td>\n",
              "      <td>335</td>\n",
              "      <td>4.34</td>\n",
              "      <td>4.35</td>\n",
              "      <td>2.75</td>\n",
              "    </tr>\n",
              "  </tbody>\n",
              "</table>\n",
              "</div>"
            ],
            "text/plain": [
              "   carat      cut color clarity  ...  price  length in mm  width in mm  depth in mm\n",
              "0   0.23    Ideal     E     SI2  ...    326          3.95         3.98         2.43\n",
              "1   0.21  Premium     E     SI1  ...    326          3.89         3.84         2.31\n",
              "2   0.23     Good     E     VS1  ...    327          4.05         4.07         2.31\n",
              "3   0.29  Premium     I     VS2  ...    334          4.20         4.23         2.63\n",
              "4   0.31     Good     J     SI2  ...    335          4.34         4.35         2.75\n",
              "\n",
              "[5 rows x 10 columns]"
            ]
          },
          "metadata": {
            "tags": []
          },
          "execution_count": 9
        }
      ]
    },
    {
      "cell_type": "code",
      "metadata": {
        "id": "xp9VzrkgB8rU"
      },
      "source": [
        "from sklearn.preprocessing import OneHotEncoder"
      ],
      "execution_count": 10,
      "outputs": []
    },
    {
      "cell_type": "code",
      "metadata": {
        "id": "EFXdvX0nB-BI"
      },
      "source": [
        "#categorical data\r\n",
        "categorical_cols = ['cut', 'color', 'clarity'] \r\n",
        "from sklearn.preprocessing import LabelEncoder\r\n",
        "# instantiate labelencoder object\r\n",
        "le = LabelEncoder()\r\n",
        "# apply le on categorical feature columns\r\n",
        "df[categorical_cols] = df[categorical_cols].apply(lambda col: le.fit_transform(col))"
      ],
      "execution_count": 12,
      "outputs": []
    },
    {
      "cell_type": "code",
      "metadata": {
        "colab": {
          "base_uri": "https://localhost:8080/",
          "height": 402
        },
        "id": "pTXqRweLCm8z",
        "outputId": "36c876ca-2bc4-4f93-b2d5-2cc201992cca"
      },
      "source": [
        "df"
      ],
      "execution_count": 13,
      "outputs": [
        {
          "output_type": "execute_result",
          "data": {
            "text/html": [
              "<div>\n",
              "<style scoped>\n",
              "    .dataframe tbody tr th:only-of-type {\n",
              "        vertical-align: middle;\n",
              "    }\n",
              "\n",
              "    .dataframe tbody tr th {\n",
              "        vertical-align: top;\n",
              "    }\n",
              "\n",
              "    .dataframe thead th {\n",
              "        text-align: right;\n",
              "    }\n",
              "</style>\n",
              "<table border=\"1\" class=\"dataframe\">\n",
              "  <thead>\n",
              "    <tr style=\"text-align: right;\">\n",
              "      <th></th>\n",
              "      <th>carat</th>\n",
              "      <th>cut</th>\n",
              "      <th>color</th>\n",
              "      <th>clarity</th>\n",
              "      <th>depth</th>\n",
              "      <th>table</th>\n",
              "      <th>price</th>\n",
              "      <th>length in mm</th>\n",
              "      <th>width in mm</th>\n",
              "      <th>depth in mm</th>\n",
              "    </tr>\n",
              "  </thead>\n",
              "  <tbody>\n",
              "    <tr>\n",
              "      <th>0</th>\n",
              "      <td>0.23</td>\n",
              "      <td>2</td>\n",
              "      <td>1</td>\n",
              "      <td>3</td>\n",
              "      <td>61.5</td>\n",
              "      <td>55.0</td>\n",
              "      <td>326</td>\n",
              "      <td>3.95</td>\n",
              "      <td>3.98</td>\n",
              "      <td>2.43</td>\n",
              "    </tr>\n",
              "    <tr>\n",
              "      <th>1</th>\n",
              "      <td>0.21</td>\n",
              "      <td>3</td>\n",
              "      <td>1</td>\n",
              "      <td>2</td>\n",
              "      <td>59.8</td>\n",
              "      <td>61.0</td>\n",
              "      <td>326</td>\n",
              "      <td>3.89</td>\n",
              "      <td>3.84</td>\n",
              "      <td>2.31</td>\n",
              "    </tr>\n",
              "    <tr>\n",
              "      <th>2</th>\n",
              "      <td>0.23</td>\n",
              "      <td>1</td>\n",
              "      <td>1</td>\n",
              "      <td>4</td>\n",
              "      <td>56.9</td>\n",
              "      <td>65.0</td>\n",
              "      <td>327</td>\n",
              "      <td>4.05</td>\n",
              "      <td>4.07</td>\n",
              "      <td>2.31</td>\n",
              "    </tr>\n",
              "    <tr>\n",
              "      <th>3</th>\n",
              "      <td>0.29</td>\n",
              "      <td>3</td>\n",
              "      <td>5</td>\n",
              "      <td>5</td>\n",
              "      <td>62.4</td>\n",
              "      <td>58.0</td>\n",
              "      <td>334</td>\n",
              "      <td>4.20</td>\n",
              "      <td>4.23</td>\n",
              "      <td>2.63</td>\n",
              "    </tr>\n",
              "    <tr>\n",
              "      <th>4</th>\n",
              "      <td>0.31</td>\n",
              "      <td>1</td>\n",
              "      <td>6</td>\n",
              "      <td>3</td>\n",
              "      <td>63.3</td>\n",
              "      <td>58.0</td>\n",
              "      <td>335</td>\n",
              "      <td>4.34</td>\n",
              "      <td>4.35</td>\n",
              "      <td>2.75</td>\n",
              "    </tr>\n",
              "    <tr>\n",
              "      <th>...</th>\n",
              "      <td>...</td>\n",
              "      <td>...</td>\n",
              "      <td>...</td>\n",
              "      <td>...</td>\n",
              "      <td>...</td>\n",
              "      <td>...</td>\n",
              "      <td>...</td>\n",
              "      <td>...</td>\n",
              "      <td>...</td>\n",
              "      <td>...</td>\n",
              "    </tr>\n",
              "    <tr>\n",
              "      <th>53935</th>\n",
              "      <td>0.72</td>\n",
              "      <td>2</td>\n",
              "      <td>0</td>\n",
              "      <td>2</td>\n",
              "      <td>60.8</td>\n",
              "      <td>57.0</td>\n",
              "      <td>2757</td>\n",
              "      <td>5.75</td>\n",
              "      <td>5.76</td>\n",
              "      <td>3.50</td>\n",
              "    </tr>\n",
              "    <tr>\n",
              "      <th>53936</th>\n",
              "      <td>0.72</td>\n",
              "      <td>1</td>\n",
              "      <td>0</td>\n",
              "      <td>2</td>\n",
              "      <td>63.1</td>\n",
              "      <td>55.0</td>\n",
              "      <td>2757</td>\n",
              "      <td>5.69</td>\n",
              "      <td>5.75</td>\n",
              "      <td>3.61</td>\n",
              "    </tr>\n",
              "    <tr>\n",
              "      <th>53937</th>\n",
              "      <td>0.70</td>\n",
              "      <td>4</td>\n",
              "      <td>0</td>\n",
              "      <td>2</td>\n",
              "      <td>62.8</td>\n",
              "      <td>60.0</td>\n",
              "      <td>2757</td>\n",
              "      <td>5.66</td>\n",
              "      <td>5.68</td>\n",
              "      <td>3.56</td>\n",
              "    </tr>\n",
              "    <tr>\n",
              "      <th>53938</th>\n",
              "      <td>0.86</td>\n",
              "      <td>3</td>\n",
              "      <td>4</td>\n",
              "      <td>3</td>\n",
              "      <td>61.0</td>\n",
              "      <td>58.0</td>\n",
              "      <td>2757</td>\n",
              "      <td>6.15</td>\n",
              "      <td>6.12</td>\n",
              "      <td>3.74</td>\n",
              "    </tr>\n",
              "    <tr>\n",
              "      <th>53939</th>\n",
              "      <td>0.75</td>\n",
              "      <td>2</td>\n",
              "      <td>0</td>\n",
              "      <td>3</td>\n",
              "      <td>62.2</td>\n",
              "      <td>55.0</td>\n",
              "      <td>2757</td>\n",
              "      <td>5.83</td>\n",
              "      <td>5.87</td>\n",
              "      <td>3.64</td>\n",
              "    </tr>\n",
              "  </tbody>\n",
              "</table>\n",
              "<p>53940 rows × 10 columns</p>\n",
              "</div>"
            ],
            "text/plain": [
              "       carat  cut  color  ...  length in mm  width in mm  depth in mm\n",
              "0       0.23    2      1  ...          3.95         3.98         2.43\n",
              "1       0.21    3      1  ...          3.89         3.84         2.31\n",
              "2       0.23    1      1  ...          4.05         4.07         2.31\n",
              "3       0.29    3      5  ...          4.20         4.23         2.63\n",
              "4       0.31    1      6  ...          4.34         4.35         2.75\n",
              "...      ...  ...    ...  ...           ...          ...          ...\n",
              "53935   0.72    2      0  ...          5.75         5.76         3.50\n",
              "53936   0.72    1      0  ...          5.69         5.75         3.61\n",
              "53937   0.70    4      0  ...          5.66         5.68         3.56\n",
              "53938   0.86    3      4  ...          6.15         6.12         3.74\n",
              "53939   0.75    2      0  ...          5.83         5.87         3.64\n",
              "\n",
              "[53940 rows x 10 columns]"
            ]
          },
          "metadata": {
            "tags": []
          },
          "execution_count": 13
        }
      ]
    },
    {
      "cell_type": "code",
      "metadata": {
        "id": "uTfU6gcAC1RA"
      },
      "source": [
        "X = df.loc[:, ['carat', 'cut', 'color',\t'clarity', 'depth',\t'table', 'length in mm', 'width in mm', 'depth in mm']]\r\n",
        "y = df['price']"
      ],
      "execution_count": 20,
      "outputs": []
    },
    {
      "cell_type": "code",
      "metadata": {
        "colab": {
          "base_uri": "https://localhost:8080/"
        },
        "id": "vZR61kt2Df43",
        "outputId": "2e6d81a2-83c7-413b-aa57-295c869ecbb9"
      },
      "source": [
        "X.shape"
      ],
      "execution_count": 21,
      "outputs": [
        {
          "output_type": "execute_result",
          "data": {
            "text/plain": [
              "(53940, 9)"
            ]
          },
          "metadata": {
            "tags": []
          },
          "execution_count": 21
        }
      ]
    },
    {
      "cell_type": "code",
      "metadata": {
        "colab": {
          "base_uri": "https://localhost:8080/"
        },
        "id": "fNPLOIrbDh_-",
        "outputId": "2f9c9f7b-ca90-4b85-d3c7-32c28708d368"
      },
      "source": [
        "y.shape"
      ],
      "execution_count": 22,
      "outputs": [
        {
          "output_type": "execute_result",
          "data": {
            "text/plain": [
              "(53940,)"
            ]
          },
          "metadata": {
            "tags": []
          },
          "execution_count": 22
        }
      ]
    },
    {
      "cell_type": "code",
      "metadata": {
        "id": "6ZyiddiREGMW"
      },
      "source": [
        "#Splitting into Training set and Test set\r\n",
        "from sklearn.model_selection import train_test_split\r\n",
        "X_train, X_test, y_train, y_test = train_test_split(X, y, test_size = 0.2, random_state = 42)"
      ],
      "execution_count": 23,
      "outputs": []
    },
    {
      "cell_type": "code",
      "metadata": {
        "id": "vW1wP0U_EHqr"
      },
      "source": [
        "# Importing the Keras libraries and packages\r\n",
        "import keras\r\n",
        "from keras.models import Sequential\r\n",
        "from keras.layers import Dense"
      ],
      "execution_count": 24,
      "outputs": []
    },
    {
      "cell_type": "code",
      "metadata": {
        "id": "pN5bE5MZEK_Y"
      },
      "source": [
        "from sklearn import metrics\r\n",
        "from sklearn.model_selection import cross_val_score\r\n",
        "\r\n",
        "def cross_val(model):\r\n",
        "    pred = cross_val_score(model, X, y, cv=10)\r\n",
        "    return pred.mean()\r\n",
        "\r\n",
        "def print_evaluate(true, predicted):  \r\n",
        "    mae = metrics.mean_absolute_error(true, predicted)\r\n",
        "    mse = metrics.mean_squared_error(true, predicted)\r\n",
        "    rmse = np.sqrt(metrics.mean_squared_error(true, predicted))\r\n",
        "    r2_square = metrics.r2_score(true, predicted)\r\n",
        "    print('MAE:', mae)\r\n",
        "    print('MSE:', mse)\r\n",
        "    print('RMSE:', rmse)\r\n",
        "    print('R2 Square', r2_square)\r\n",
        "    \r\n",
        "def evaluate(true, predicted):\r\n",
        "    mae = metrics.mean_absolute_error(true, predicted)\r\n",
        "    mse = metrics.mean_squared_error(true, predicted)\r\n",
        "    rmse = np.sqrt(metrics.mean_squared_error(true, predicted))\r\n",
        "    r2_square = metrics.r2_score(true, predicted)\r\n",
        "    return mae, mse, rmse, r2_square\r\n"
      ],
      "execution_count": 25,
      "outputs": []
    },
    {
      "cell_type": "code",
      "metadata": {
        "id": "cDD5e6G3E8o4"
      },
      "source": [
        "from sklearn.preprocessing import StandardScaler\r\n",
        "from sklearn.pipeline import Pipeline\r\n",
        "\r\n",
        "pipeline = Pipeline([\r\n",
        "    ('std_scalar', StandardScaler())\r\n",
        "])\r\n",
        "\r\n",
        "X_train = pipeline.fit_transform(X_train)\r\n",
        "X_test = pipeline.transform(X_test)"
      ],
      "execution_count": 26,
      "outputs": []
    },
    {
      "cell_type": "code",
      "metadata": {
        "colab": {
          "base_uri": "https://localhost:8080/"
        },
        "id": "IeFwX1ozE-m0",
        "outputId": "58c3a146-904f-4550-c5a8-0d8c881c3fdd"
      },
      "source": [
        "from sklearn.linear_model import LinearRegression\r\n",
        "\r\n",
        "lin_reg = LinearRegression(normalize=True)\r\n",
        "lin_reg.fit(X_train,y_train)"
      ],
      "execution_count": 27,
      "outputs": [
        {
          "output_type": "execute_result",
          "data": {
            "text/plain": [
              "LinearRegression(copy_X=True, fit_intercept=True, n_jobs=None, normalize=True)"
            ]
          },
          "metadata": {
            "tags": []
          },
          "execution_count": 27
        }
      ]
    },
    {
      "cell_type": "code",
      "metadata": {
        "colab": {
          "base_uri": "https://localhost:8080/"
        },
        "id": "ibPQumyYFC6O",
        "outputId": "da920651-1df9-4b50-9231-5296a9d67c66"
      },
      "source": [
        "# print the intercept\r\n",
        "print(lin_reg.intercept_)"
      ],
      "execution_count": 28,
      "outputs": [
        {
          "output_type": "stream",
          "text": [
            "3939.490707267337\n"
          ],
          "name": "stdout"
        }
      ]
    },
    {
      "cell_type": "code",
      "metadata": {
        "colab": {
          "base_uri": "https://localhost:8080/",
          "height": 314
        },
        "id": "7_8_tHriFGZ-",
        "outputId": "b2cdbdea-c204-4a71-a40f-4d56526e12ea"
      },
      "source": [
        "coeff_df = pd.DataFrame(lin_reg.coef_, X.columns, columns=['Coefficient'])\r\n",
        "coeff_df"
      ],
      "execution_count": 29,
      "outputs": [
        {
          "output_type": "execute_result",
          "data": {
            "text/html": [
              "<div>\n",
              "<style scoped>\n",
              "    .dataframe tbody tr th:only-of-type {\n",
              "        vertical-align: middle;\n",
              "    }\n",
              "\n",
              "    .dataframe tbody tr th {\n",
              "        vertical-align: top;\n",
              "    }\n",
              "\n",
              "    .dataframe thead th {\n",
              "        text-align: right;\n",
              "    }\n",
              "</style>\n",
              "<table border=\"1\" class=\"dataframe\">\n",
              "  <thead>\n",
              "    <tr style=\"text-align: right;\">\n",
              "      <th></th>\n",
              "      <th>Coefficient</th>\n",
              "    </tr>\n",
              "  </thead>\n",
              "  <tbody>\n",
              "    <tr>\n",
              "      <th>carat</th>\n",
              "      <td>5203.339864</td>\n",
              "    </tr>\n",
              "    <tr>\n",
              "      <th>cut</th>\n",
              "      <td>73.928465</td>\n",
              "    </tr>\n",
              "    <tr>\n",
              "      <th>color</th>\n",
              "      <td>-456.442345</td>\n",
              "    </tr>\n",
              "    <tr>\n",
              "      <th>clarity</th>\n",
              "      <td>493.827821</td>\n",
              "    </tr>\n",
              "    <tr>\n",
              "      <th>depth</th>\n",
              "      <td>-222.365940</td>\n",
              "    </tr>\n",
              "    <tr>\n",
              "      <th>table</th>\n",
              "      <td>-210.442552</td>\n",
              "    </tr>\n",
              "    <tr>\n",
              "      <th>length in mm</th>\n",
              "      <td>-1310.868175</td>\n",
              "    </tr>\n",
              "    <tr>\n",
              "      <th>width in mm</th>\n",
              "      <td>27.307125</td>\n",
              "    </tr>\n",
              "    <tr>\n",
              "      <th>depth in mm</th>\n",
              "      <td>8.619903</td>\n",
              "    </tr>\n",
              "  </tbody>\n",
              "</table>\n",
              "</div>"
            ],
            "text/plain": [
              "              Coefficient\n",
              "carat         5203.339864\n",
              "cut             73.928465\n",
              "color         -456.442345\n",
              "clarity        493.827821\n",
              "depth         -222.365940\n",
              "table         -210.442552\n",
              "length in mm -1310.868175\n",
              "width in mm     27.307125\n",
              "depth in mm      8.619903"
            ]
          },
          "metadata": {
            "tags": []
          },
          "execution_count": 29
        }
      ]
    },
    {
      "cell_type": "code",
      "metadata": {
        "id": "i72MeFMsFOyP"
      },
      "source": [
        "pred = lin_reg.predict(X_test)"
      ],
      "execution_count": 30,
      "outputs": []
    },
    {
      "cell_type": "code",
      "metadata": {
        "colab": {
          "base_uri": "https://localhost:8080/",
          "height": 282
        },
        "id": "7aCd-mLIFRWW",
        "outputId": "8a5bd2e0-130d-4977-cedc-46e396c9eb32"
      },
      "source": [
        "plt.scatter(y_test, pred)"
      ],
      "execution_count": 31,
      "outputs": [
        {
          "output_type": "execute_result",
          "data": {
            "text/plain": [
              "<matplotlib.collections.PathCollection at 0x7f9dda486410>"
            ]
          },
          "metadata": {
            "tags": []
          },
          "execution_count": 31
        },
        {
          "output_type": "display_data",
          "data": {
            "image/png": "[encoded data removed]",
            "text/plain": [
              "<Figure size 432x288 with 1 Axes>"
            ]
          },
          "metadata": {
            "tags": [],
            "needs_background": "light"
          }
        }
      ]
    },
    {
      "cell_type": "code",
      "metadata": {
        "colab": {
          "base_uri": "https://localhost:8080/",
          "height": 333
        },
        "id": "1Qt89XZdFUuX",
        "outputId": "c5e1a67b-cbdc-4e4c-9dea-1815cb71a4f1"
      },
      "source": [
        "sns.distplot((y_test - pred), bins=58);"
      ],
      "execution_count": 36,
      "outputs": [
        {
          "output_type": "stream",
          "text": [
            "/usr/local/lib/python3.7/dist-packages/seaborn/distributions.py:2557: FutureWarning: `distplot` is a deprecated function and will be removed in a future version. Please adapt your code to use either `displot` (a figure-level function with similar flexibility) or `histplot` (an axes-level function for histograms).\n",
            "  warnings.warn(msg, FutureWarning)\n"
          ],
          "name": "stderr"
        },
        {
          "output_type": "display_data",
          "data": {
            "image/png": "[encoded data removed]",
            "text/plain": [
              "<Figure size 432x288 with 1 Axes>"
            ]
          },
          "metadata": {
            "tags": [],
            "needs_background": "light"
          }
        }
      ]
    },
    {
      "cell_type": "code",
      "metadata": {
        "colab": {
          "base_uri": "https://localhost:8080/"
        },
        "id": "NMqfxNkYFhXk",
        "outputId": "d40d3563-e3f4-4191-ad8d-e76c07c8371f"
      },
      "source": [
        "test_pred = lin_reg.predict(X_test)\r\n",
        "train_pred = lin_reg.predict(X_train)\r\n",
        "\r\n",
        "print('Test set evaluation:\\n_____________________________________')\r\n",
        "print_evaluate(y_test, test_pred)\r\n",
        "print('====================================')\r\n",
        "print('Train set evaluation:\\n_____________________________________')\r\n",
        "print_evaluate(y_train, train_pred)"
      ],
      "execution_count": 37,
      "outputs": [
        {
          "output_type": "stream",
          "text": [
            "Test set evaluation:\n",
            "_____________________________________\n",
            "MAE: 858.7084697710079\n",
            "MSE: 1825912.9915253473\n",
            "RMSE: 1351.263479683125\n",
            "R2 Square 0.8851397433679632\n",
            "====================================\n",
            "Train set evaluation:\n",
            "_____________________________________\n",
            "MAE: 863.073809043026\n",
            "MSE: 1830068.2345561872\n",
            "RMSE: 1352.8001458294523\n",
            "R2 Square 0.88504407867572\n"
          ],
          "name": "stdout"
        }
      ]
    },
    {
      "cell_type": "code",
      "metadata": {
        "colab": {
          "base_uri": "https://localhost:8080/",
          "height": 77
        },
        "id": "Aqu8l8hZFojU",
        "outputId": "77cf8ebf-6980-4767-f6c4-4e338c922299"
      },
      "source": [
        "results_df = pd.DataFrame(data=[[\"Linear Regression\", *evaluate(y_test, test_pred) , cross_val(LinearRegression())]], \r\n",
        "                          columns=['Model', 'MAE', 'MSE', 'RMSE', 'R2 Square', \"Cross Validation\"])\r\n",
        "results_df"
      ],
      "execution_count": 38,
      "outputs": [
        {
          "output_type": "execute_result",
          "data": {
            "text/html": [
              "<div>\n",
              "<style scoped>\n",
              "    .dataframe tbody tr th:only-of-type {\n",
              "        vertical-align: middle;\n",
              "    }\n",
              "\n",
              "    .dataframe tbody tr th {\n",
              "        vertical-align: top;\n",
              "    }\n",
              "\n",
              "    .dataframe thead th {\n",
              "        text-align: right;\n",
              "    }\n",
              "</style>\n",
              "<table border=\"1\" class=\"dataframe\">\n",
              "  <thead>\n",
              "    <tr style=\"text-align: right;\">\n",
              "      <th></th>\n",
              "      <th>Model</th>\n",
              "      <th>MAE</th>\n",
              "      <th>MSE</th>\n",
              "      <th>RMSE</th>\n",
              "      <th>R2 Square</th>\n",
              "      <th>Cross Validation</th>\n",
              "    </tr>\n",
              "  </thead>\n",
              "  <tbody>\n",
              "    <tr>\n",
              "      <th>0</th>\n",
              "      <td>Linear Regression</td>\n",
              "      <td>858.70847</td>\n",
              "      <td>1.825913e+06</td>\n",
              "      <td>1351.26348</td>\n",
              "      <td>0.88514</td>\n",
              "      <td>-4.156252</td>\n",
              "    </tr>\n",
              "  </tbody>\n",
              "</table>\n",
              "</div>"
            ],
            "text/plain": [
              "               Model        MAE  ...  R2 Square  Cross Validation\n",
              "0  Linear Regression  858.70847  ...    0.88514         -4.156252\n",
              "\n",
              "[1 rows x 6 columns]"
            ]
          },
          "metadata": {
            "tags": []
          },
          "execution_count": 38
        }
      ]
    },
    {
      "cell_type": "markdown",
      "metadata": {
        "id": "a_uUm5VyF1zZ"
      },
      "source": [
        "Next ro"
      ]
    },
    {
      "cell_type": "code",
      "metadata": {
        "colab": {
          "base_uri": "https://localhost:8080/"
        },
        "id": "A7FHlEe9F37U",
        "outputId": "7c85acab-8b05-4a44-d292-459f11f5e29f"
      },
      "source": [
        "from sklearn.linear_model import RANSACRegressor\r\n",
        "\r\n",
        "model = RANSACRegressor(base_estimator=LinearRegression(), max_trials=100)\r\n",
        "model.fit(X_train, y_train)\r\n",
        "\r\n",
        "test_pred = model.predict(X_test)\r\n",
        "train_pred = model.predict(X_train)\r\n",
        "\r\n",
        "print('Test set evaluation:\\n_____________________________________')\r\n",
        "print_evaluate(y_test, test_pred)\r\n",
        "print('====================================')\r\n",
        "print('Train set evaluation:\\n_____________________________________')\r\n",
        "print_evaluate(y_train, train_pred)"
      ],
      "execution_count": 39,
      "outputs": [
        {
          "output_type": "stream",
          "text": [
            "Test set evaluation:\n",
            "_____________________________________\n",
            "MAE: 1051.5111797635543\n",
            "MSE: 4467656.993807661\n",
            "RMSE: 2113.6832766068956\n",
            "R2 Square 0.7189591008802796\n",
            "====================================\n",
            "Train set evaluation:\n",
            "_____________________________________\n",
            "MAE: 1099.332286455108\n",
            "MSE: 24509953.339175098\n",
            "RMSE: 4950.752805298917\n",
            "R2 Square -0.5395951989753427\n"
          ],
          "name": "stdout"
        }
      ]
    },
    {
      "cell_type": "code",
      "metadata": {
        "colab": {
          "base_uri": "https://localhost:8080/",
          "height": 106
        },
        "id": "WjPFmgsdF5ld",
        "outputId": "a44f59cf-cdca-4a60-8766-76469d279770"
      },
      "source": [
        "results_df_2 = pd.DataFrame(data=[[\"Robust Regression\", *evaluate(y_test, test_pred) , cross_val(RANSACRegressor())]], \r\n",
        "                            columns=['Model', 'MAE', 'MSE', 'RMSE', 'R2 Square', \"Cross Validation\"])\r\n",
        "results_df = results_df.append(results_df_2, ignore_index=True)\r\n",
        "results_df"
      ],
      "execution_count": 40,
      "outputs": [
        {
          "output_type": "execute_result",
          "data": {
            "text/html": [
              "<div>\n",
              "<style scoped>\n",
              "    .dataframe tbody tr th:only-of-type {\n",
              "        vertical-align: middle;\n",
              "    }\n",
              "\n",
              "    .dataframe tbody tr th {\n",
              "        vertical-align: top;\n",
              "    }\n",
              "\n",
              "    .dataframe thead th {\n",
              "        text-align: right;\n",
              "    }\n",
              "</style>\n",
              "<table border=\"1\" class=\"dataframe\">\n",
              "  <thead>\n",
              "    <tr style=\"text-align: right;\">\n",
              "      <th></th>\n",
              "      <th>Model</th>\n",
              "      <th>MAE</th>\n",
              "      <th>MSE</th>\n",
              "      <th>RMSE</th>\n",
              "      <th>R2 Square</th>\n",
              "      <th>Cross Validation</th>\n",
              "    </tr>\n",
              "  </thead>\n",
              "  <tbody>\n",
              "    <tr>\n",
              "      <th>0</th>\n",
              "      <td>Linear Regression</td>\n",
              "      <td>858.70847</td>\n",
              "      <td>1.825913e+06</td>\n",
              "      <td>1351.263480</td>\n",
              "      <td>0.885140</td>\n",
              "      <td>-4.156252</td>\n",
              "    </tr>\n",
              "    <tr>\n",
              "      <th>1</th>\n",
              "      <td>Robust Regression</td>\n",
              "      <td>1051.51118</td>\n",
              "      <td>4.467657e+06</td>\n",
              "      <td>2113.683277</td>\n",
              "      <td>0.718959</td>\n",
              "      <td>-45.974848</td>\n",
              "    </tr>\n",
              "  </tbody>\n",
              "</table>\n",
              "</div>"
            ],
            "text/plain": [
              "               Model         MAE  ...  R2 Square  Cross Validation\n",
              "0  Linear Regression   858.70847  ...   0.885140         -4.156252\n",
              "1  Robust Regression  1051.51118  ...   0.718959        -45.974848\n",
              "\n",
              "[2 rows x 6 columns]"
            ]
          },
          "metadata": {
            "tags": []
          },
          "execution_count": 40
        }
      ]
    },
    {
      "cell_type": "markdown",
      "metadata": {
        "id": "zMVC15N_F-5H"
      },
      "source": [
        "Ridge regress"
      ]
    },
    {
      "cell_type": "code",
      "metadata": {
        "colab": {
          "base_uri": "https://localhost:8080/"
        },
        "id": "FEpm-oTwF-Tc",
        "outputId": "b66f0f0a-303b-4d35-c86e-f496c4355611"
      },
      "source": [
        "from sklearn.linear_model import Ridge\r\n",
        "\r\n",
        "model = Ridge(alpha=100, solver='cholesky', tol=0.0001, random_state=42)\r\n",
        "model.fit(X_train, y_train)\r\n",
        "pred = model.predict(X_test)\r\n",
        "\r\n",
        "test_pred = model.predict(X_test)\r\n",
        "train_pred = model.predict(X_train)\r\n",
        "\r\n",
        "print('Test set evaluation:\\n_____________________________________')\r\n",
        "print_evaluate(y_test, test_pred)\r\n",
        "print('====================================')\r\n",
        "print('Train set evaluation:\\n_____________________________________')\r\n",
        "print_evaluate(y_train, train_pred)"
      ],
      "execution_count": 41,
      "outputs": [
        {
          "output_type": "stream",
          "text": [
            "Test set evaluation:\n",
            "_____________________________________\n",
            "MAE: 868.2380893768081\n",
            "MSE: 1829350.903422105\n",
            "RMSE: 1352.5349915703123\n",
            "R2 Square 0.8849234792608712\n",
            "====================================\n",
            "Train set evaluation:\n",
            "_____________________________________\n",
            "MAE: 872.738656599258\n",
            "MSE: 1834209.2717373257\n",
            "RMSE: 1354.329823838095\n",
            "R2 Square 0.8847839590061868\n"
          ],
          "name": "stdout"
        }
      ]
    },
    {
      "cell_type": "code",
      "metadata": {
        "colab": {
          "base_uri": "https://localhost:8080/",
          "height": 136
        },
        "id": "yyIblXeiGGw2",
        "outputId": "1fa4c587-bd9b-49ed-eaf2-ef3718c3f761"
      },
      "source": [
        "results_df_2 = pd.DataFrame(data=[[\"Ridge Regression\", *evaluate(y_test, test_pred) , cross_val(Ridge())]], \r\n",
        "                            columns=['Model', 'MAE', 'MSE', 'RMSE', 'R2 Square', \"Cross Validation\"])\r\n",
        "results_df = results_df.append(results_df_2, ignore_index=True)\r\n",
        "results_df"
      ],
      "execution_count": 42,
      "outputs": [
        {
          "output_type": "execute_result",
          "data": {
            "text/html": [
              "<div>\n",
              "<style scoped>\n",
              "    .dataframe tbody tr th:only-of-type {\n",
              "        vertical-align: middle;\n",
              "    }\n",
              "\n",
              "    .dataframe tbody tr th {\n",
              "        vertical-align: top;\n",
              "    }\n",
              "\n",
              "    .dataframe thead th {\n",
              "        text-align: right;\n",
              "    }\n",
              "</style>\n",
              "<table border=\"1\" class=\"dataframe\">\n",
              "  <thead>\n",
              "    <tr style=\"text-align: right;\">\n",
              "      <th></th>\n",
              "      <th>Model</th>\n",
              "      <th>MAE</th>\n",
              "      <th>MSE</th>\n",
              "      <th>RMSE</th>\n",
              "      <th>R2 Square</th>\n",
              "      <th>Cross Validation</th>\n",
              "    </tr>\n",
              "  </thead>\n",
              "  <tbody>\n",
              "    <tr>\n",
              "      <th>0</th>\n",
              "      <td>Linear Regression</td>\n",
              "      <td>858.708470</td>\n",
              "      <td>1.825913e+06</td>\n",
              "      <td>1351.263480</td>\n",
              "      <td>0.885140</td>\n",
              "      <td>-4.156252</td>\n",
              "    </tr>\n",
              "    <tr>\n",
              "      <th>1</th>\n",
              "      <td>Robust Regression</td>\n",
              "      <td>1051.511180</td>\n",
              "      <td>4.467657e+06</td>\n",
              "      <td>2113.683277</td>\n",
              "      <td>0.718959</td>\n",
              "      <td>-45.974848</td>\n",
              "    </tr>\n",
              "    <tr>\n",
              "      <th>2</th>\n",
              "      <td>Ridge Regression</td>\n",
              "      <td>868.238089</td>\n",
              "      <td>1.829351e+06</td>\n",
              "      <td>1352.534992</td>\n",
              "      <td>0.884923</td>\n",
              "      <td>-4.159616</td>\n",
              "    </tr>\n",
              "  </tbody>\n",
              "</table>\n",
              "</div>"
            ],
            "text/plain": [
              "               Model          MAE  ...  R2 Square  Cross Validation\n",
              "0  Linear Regression   858.708470  ...   0.885140         -4.156252\n",
              "1  Robust Regression  1051.511180  ...   0.718959        -45.974848\n",
              "2   Ridge Regression   868.238089  ...   0.884923         -4.159616\n",
              "\n",
              "[3 rows x 6 columns]"
            ]
          },
          "metadata": {
            "tags": []
          },
          "execution_count": 42
        }
      ]
    },
    {
      "cell_type": "markdown",
      "metadata": {
        "id": "EEn5GySQGLWC"
      },
      "source": [
        "lasso regres"
      ]
    },
    {
      "cell_type": "code",
      "metadata": {
        "colab": {
          "base_uri": "https://localhost:8080/"
        },
        "id": "4DIZEHn5GNkX",
        "outputId": "4aa7856c-fd42-4d9c-b1f4-8e3c0cfe8761"
      },
      "source": [
        "from sklearn.linear_model import Lasso\r\n",
        "\r\n",
        "model = Lasso(alpha=0.1, \r\n",
        "              precompute=True, \r\n",
        "#               warm_start=True, \r\n",
        "              positive=True, \r\n",
        "              selection='random',\r\n",
        "              random_state=42)\r\n",
        "model.fit(X_train, y_train)\r\n",
        "\r\n",
        "test_pred = model.predict(X_test)\r\n",
        "train_pred = model.predict(X_train)\r\n",
        "\r\n",
        "print('Test set evaluation:\\n_____________________________________')\r\n",
        "print_evaluate(y_test, test_pred)\r\n",
        "print('====================================')\r\n",
        "print('Train set evaluation:\\n_____________________________________')\r\n",
        "print_evaluate(y_train, train_pred)"
      ],
      "execution_count": 43,
      "outputs": [
        {
          "output_type": "stream",
          "text": [
            "Test set evaluation:\n",
            "_____________________________________\n",
            "MAE: 951.8497159463934\n",
            "MSE: 2106211.8380776416\n",
            "RMSE: 1451.2793797465881\n",
            "R2 Square 0.8675073602269873\n",
            "====================================\n",
            "Train set evaluation:\n",
            "_____________________________________\n",
            "MAE: 959.1189066465469\n",
            "MSE: 2132347.30885227\n",
            "RMSE: 1460.2559052619065\n",
            "R2 Square 0.8660563880384997\n"
          ],
          "name": "stdout"
        }
      ]
    },
    {
      "cell_type": "code",
      "metadata": {
        "colab": {
          "base_uri": "https://localhost:8080/",
          "height": 166
        },
        "id": "6FBfg0EeGJbD",
        "outputId": "474c4d9e-f642-4579-b97a-27ff04facb63"
      },
      "source": [
        "results_df_2 = pd.DataFrame(data=[[\"Lasso Regression\", *evaluate(y_test, test_pred) , cross_val(Lasso())]], \r\n",
        "                            columns=['Model', 'MAE', 'MSE', 'RMSE', 'R2 Square', \"Cross Validation\"])\r\n",
        "results_df = results_df.append(results_df_2, ignore_index=True)\r\n",
        "results_df"
      ],
      "execution_count": 44,
      "outputs": [
        {
          "output_type": "execute_result",
          "data": {
            "text/html": [
              "<div>\n",
              "<style scoped>\n",
              "    .dataframe tbody tr th:only-of-type {\n",
              "        vertical-align: middle;\n",
              "    }\n",
              "\n",
              "    .dataframe tbody tr th {\n",
              "        vertical-align: top;\n",
              "    }\n",
              "\n",
              "    .dataframe thead th {\n",
              "        text-align: right;\n",
              "    }\n",
              "</style>\n",
              "<table border=\"1\" class=\"dataframe\">\n",
              "  <thead>\n",
              "    <tr style=\"text-align: right;\">\n",
              "      <th></th>\n",
              "      <th>Model</th>\n",
              "      <th>MAE</th>\n",
              "      <th>MSE</th>\n",
              "      <th>RMSE</th>\n",
              "      <th>R2 Square</th>\n",
              "      <th>Cross Validation</th>\n",
              "    </tr>\n",
              "  </thead>\n",
              "  <tbody>\n",
              "    <tr>\n",
              "      <th>0</th>\n",
              "      <td>Linear Regression</td>\n",
              "      <td>858.708470</td>\n",
              "      <td>1.825913e+06</td>\n",
              "      <td>1351.263480</td>\n",
              "      <td>0.885140</td>\n",
              "      <td>-4.156252</td>\n",
              "    </tr>\n",
              "    <tr>\n",
              "      <th>1</th>\n",
              "      <td>Robust Regression</td>\n",
              "      <td>1051.511180</td>\n",
              "      <td>4.467657e+06</td>\n",
              "      <td>2113.683277</td>\n",
              "      <td>0.718959</td>\n",
              "      <td>-45.974848</td>\n",
              "    </tr>\n",
              "    <tr>\n",
              "      <th>2</th>\n",
              "      <td>Ridge Regression</td>\n",
              "      <td>868.238089</td>\n",
              "      <td>1.829351e+06</td>\n",
              "      <td>1352.534992</td>\n",
              "      <td>0.884923</td>\n",
              "      <td>-4.159616</td>\n",
              "    </tr>\n",
              "    <tr>\n",
              "      <th>3</th>\n",
              "      <td>Lasso Regression</td>\n",
              "      <td>951.849716</td>\n",
              "      <td>2.106212e+06</td>\n",
              "      <td>1451.279380</td>\n",
              "      <td>0.867507</td>\n",
              "      <td>-4.171790</td>\n",
              "    </tr>\n",
              "  </tbody>\n",
              "</table>\n",
              "</div>"
            ],
            "text/plain": [
              "               Model          MAE  ...  R2 Square  Cross Validation\n",
              "0  Linear Regression   858.708470  ...   0.885140         -4.156252\n",
              "1  Robust Regression  1051.511180  ...   0.718959        -45.974848\n",
              "2   Ridge Regression   868.238089  ...   0.884923         -4.159616\n",
              "3   Lasso Regression   951.849716  ...   0.867507         -4.171790\n",
              "\n",
              "[4 rows x 6 columns]"
            ]
          },
          "metadata": {
            "tags": []
          },
          "execution_count": 44
        }
      ]
    },
    {
      "cell_type": "markdown",
      "metadata": {
        "id": "1MNG-5uXGYaj"
      },
      "source": [
        "Elastic ne"
      ]
    },
    {
      "cell_type": "code",
      "metadata": {
        "colab": {
          "base_uri": "https://localhost:8080/"
        },
        "id": "HcRwhF-zGWkA",
        "outputId": "8da7f33e-3c78-42fa-9d7c-86491b094537"
      },
      "source": [
        "from sklearn.linear_model import ElasticNet\r\n",
        "\r\n",
        "model = ElasticNet(alpha=0.1, l1_ratio=0.9, selection='random', random_state=42)\r\n",
        "model.fit(X_train, y_train)\r\n",
        "\r\n",
        "test_pred = model.predict(X_test)\r\n",
        "train_pred = model.predict(X_train)\r\n",
        "\r\n",
        "print('Test set evaluation:\\n_____________________________________')\r\n",
        "print_evaluate(y_test, test_pred)\r\n",
        "print('====================================')\r\n",
        "print('Train set evaluation:\\n_____________________________________')\r\n",
        "print_evaluate(y_train, train_pred)"
      ],
      "execution_count": 45,
      "outputs": [
        {
          "output_type": "stream",
          "text": [
            "Test set evaluation:\n",
            "_____________________________________\n",
            "MAE: 899.7409636883868\n",
            "MSE: 1867291.49609784\n",
            "RMSE: 1366.4887471537554\n",
            "R2 Square 0.8825368013459143\n",
            "====================================\n",
            "Train set evaluation:\n",
            "_____________________________________\n",
            "MAE: 903.9733184800616\n",
            "MSE: 1875102.6616133854\n",
            "RMSE: 1369.3438799707637\n",
            "R2 Square 0.8822152365834321\n"
          ],
          "name": "stdout"
        }
      ]
    },
    {
      "cell_type": "code",
      "metadata": {
        "colab": {
          "base_uri": "https://localhost:8080/",
          "height": 195
        },
        "id": "IkKoryQrGm9P",
        "outputId": "e54c028c-bc35-4630-e91b-45f3aeca87a1"
      },
      "source": [
        "results_df_2 = pd.DataFrame(data=[[\"Elastic Net Regression\", *evaluate(y_test, test_pred) , cross_val(ElasticNet())]], \r\n",
        "                            columns=['Model', 'MAE', 'MSE', 'RMSE', 'R2 Square', \"Cross Validation\"])\r\n",
        "results_df = results_df.append(results_df_2, ignore_index=True)\r\n",
        "results_df"
      ],
      "execution_count": 46,
      "outputs": [
        {
          "output_type": "execute_result",
          "data": {
            "text/html": [
              "<div>\n",
              "<style scoped>\n",
              "    .dataframe tbody tr th:only-of-type {\n",
              "        vertical-align: middle;\n",
              "    }\n",
              "\n",
              "    .dataframe tbody tr th {\n",
              "        vertical-align: top;\n",
              "    }\n",
              "\n",
              "    .dataframe thead th {\n",
              "        text-align: right;\n",
              "    }\n",
              "</style>\n",
              "<table border=\"1\" class=\"dataframe\">\n",
              "  <thead>\n",
              "    <tr style=\"text-align: right;\">\n",
              "      <th></th>\n",
              "      <th>Model</th>\n",
              "      <th>MAE</th>\n",
              "      <th>MSE</th>\n",
              "      <th>RMSE</th>\n",
              "      <th>R2 Square</th>\n",
              "      <th>Cross Validation</th>\n",
              "    </tr>\n",
              "  </thead>\n",
              "  <tbody>\n",
              "    <tr>\n",
              "      <th>0</th>\n",
              "      <td>Linear Regression</td>\n",
              "      <td>858.708470</td>\n",
              "      <td>1.825913e+06</td>\n",
              "      <td>1351.263480</td>\n",
              "      <td>0.885140</td>\n",
              "      <td>-4.156252</td>\n",
              "    </tr>\n",
              "    <tr>\n",
              "      <th>1</th>\n",
              "      <td>Robust Regression</td>\n",
              "      <td>1051.511180</td>\n",
              "      <td>4.467657e+06</td>\n",
              "      <td>2113.683277</td>\n",
              "      <td>0.718959</td>\n",
              "      <td>-45.974848</td>\n",
              "    </tr>\n",
              "    <tr>\n",
              "      <th>2</th>\n",
              "      <td>Ridge Regression</td>\n",
              "      <td>868.238089</td>\n",
              "      <td>1.829351e+06</td>\n",
              "      <td>1352.534992</td>\n",
              "      <td>0.884923</td>\n",
              "      <td>-4.159616</td>\n",
              "    </tr>\n",
              "    <tr>\n",
              "      <th>3</th>\n",
              "      <td>Lasso Regression</td>\n",
              "      <td>951.849716</td>\n",
              "      <td>2.106212e+06</td>\n",
              "      <td>1451.279380</td>\n",
              "      <td>0.867507</td>\n",
              "      <td>-4.171790</td>\n",
              "    </tr>\n",
              "    <tr>\n",
              "      <th>4</th>\n",
              "      <td>Elastic Net Regression</td>\n",
              "      <td>899.740964</td>\n",
              "      <td>1.867291e+06</td>\n",
              "      <td>1366.488747</td>\n",
              "      <td>0.882537</td>\n",
              "      <td>-4.958919</td>\n",
              "    </tr>\n",
              "  </tbody>\n",
              "</table>\n",
              "</div>"
            ],
            "text/plain": [
              "                    Model          MAE  ...  R2 Square  Cross Validation\n",
              "0       Linear Regression   858.708470  ...   0.885140         -4.156252\n",
              "1       Robust Regression  1051.511180  ...   0.718959        -45.974848\n",
              "2        Ridge Regression   868.238089  ...   0.884923         -4.159616\n",
              "3        Lasso Regression   951.849716  ...   0.867507         -4.171790\n",
              "4  Elastic Net Regression   899.740964  ...   0.882537         -4.958919\n",
              "\n",
              "[5 rows x 6 columns]"
            ]
          },
          "metadata": {
            "tags": []
          },
          "execution_count": 46
        }
      ]
    },
    {
      "cell_type": "markdown",
      "metadata": {
        "id": "zOzckT-mG8G4"
      },
      "source": [
        "Tensor"
      ]
    },
    {
      "cell_type": "code",
      "metadata": {
        "colab": {
          "base_uri": "https://localhost:8080/"
        },
        "id": "53s6gZa8G96n",
        "outputId": "beb50870-4f05-427d-9f6f-3232ad3e4bda"
      },
      "source": [
        "from tensorflow.keras.models import Sequential\r\n",
        "from tensorflow.keras.layers import Input, Dense, Activation, Dropout\r\n",
        "from tensorflow.keras.optimizers import Adam\r\n",
        "\r\n",
        "X_train = np.array(X_train)\r\n",
        "X_test = np.array(X_test)\r\n",
        "y_train = np.array(y_train)\r\n",
        "y_test = np.array(y_test)\r\n",
        "\r\n",
        "model = Sequential()\r\n",
        "\r\n",
        "model.add(Dense(X_train.shape[1], activation='relu'))\r\n",
        "model.add(Dense(32, activation='relu'))\r\n",
        "# model.add(Dropout(0.2))\r\n",
        "\r\n",
        "model.add(Dense(64, activation='relu'))\r\n",
        "# model.add(Dropout(0.2))\r\n",
        "\r\n",
        "model.add(Dense(128, activation='relu'))\r\n",
        "# model.add(Dropout(0.2))\r\n",
        "\r\n",
        "model.add(Dense(512, activation='relu'))\r\n",
        "model.add(Dropout(0.1))\r\n",
        "model.add(Dense(1))\r\n",
        "\r\n",
        "model.compile(optimizer=Adam(0.00001), loss='mse')\r\n",
        "\r\n",
        "r = model.fit(X_train, y_train,\r\n",
        "              validation_data=(X_test,y_test),\r\n",
        "              batch_size=1,\r\n",
        "              epochs=5)"
      ],
      "execution_count": 49,
      "outputs": [
        {
          "output_type": "stream",
          "text": [
            "Epoch 1/5\n",
            "43152/43152 [==============================] - 74s 2ms/step - loss: 22703057.8684 - val_loss: 3210433.7500\n",
            "Epoch 2/5\n",
            "43152/43152 [==============================] - 74s 2ms/step - loss: 2941447.5762 - val_loss: 1981060.8750\n",
            "Epoch 3/5\n",
            "43152/43152 [==============================] - 74s 2ms/step - loss: 2395485.6467 - val_loss: 1593933.5000\n",
            "Epoch 4/5\n",
            "43152/43152 [==============================] - 75s 2ms/step - loss: 1875597.1281 - val_loss: 1439092.8750\n",
            "Epoch 5/5\n",
            "43152/43152 [==============================] - 76s 2ms/step - loss: 1735290.2256 - val_loss: 1357629.7500\n"
          ],
          "name": "stdout"
        }
      ]
    },
    {
      "cell_type": "code",
      "metadata": {
        "colab": {
          "base_uri": "https://localhost:8080/",
          "height": 402
        },
        "id": "AcVDJdMWHFNV",
        "outputId": "ecc976a8-513d-4fd3-f65d-9ccb23b9ab69"
      },
      "source": [
        "plt.figure(figsize=(10, 6))\r\n",
        "\r\n",
        "plt.plot(r.history['loss'], label='loss')\r\n",
        "plt.plot(r.history['val_loss'], label='val_loss')\r\n",
        "plt.legend()"
      ],
      "execution_count": 50,
      "outputs": [
        {
          "output_type": "execute_result",
          "data": {
            "text/plain": [
              "<matplotlib.legend.Legend at 0x7f9dd204a510>"
            ]
          },
          "metadata": {
            "tags": []
          },
          "execution_count": 50
        },
        {
          "output_type": "display_data",
          "data": {
            "image/png": "[encoded data removed]",
            "text/plain": [
              "<Figure size 720x432 with 1 Axes>"
            ]
          },
          "metadata": {
            "tags": [],
            "needs_background": "light"
          }
        }
      ]
    },
    {
      "cell_type": "code",
      "metadata": {
        "colab": {
          "base_uri": "https://localhost:8080/"
        },
        "id": "fw0mfbDxHX5L",
        "outputId": "5e3684cc-6c69-4a1e-a683-0d0fa0f89122"
      },
      "source": [
        "test_pred = model.predict(X_test)\r\n",
        "train_pred = model.predict(X_train)\r\n",
        "\r\n",
        "print('Test set evaluation:\\n_____________________________________')\r\n",
        "print_evaluate(y_test, test_pred)\r\n",
        "\r\n",
        "print('Train set evaluation:\\n_____________________________________')\r\n",
        "print_evaluate(y_train, train_pred)"
      ],
      "execution_count": 51,
      "outputs": [
        {
          "output_type": "stream",
          "text": [
            "Test set evaluation:\n",
            "_____________________________________\n",
            "MAE: 690.7768714206061\n",
            "MSE: 1357627.421235384\n",
            "RMSE: 1165.1727001759798\n",
            "R2 Square 0.9145975549012781\n",
            "Train set evaluation:\n",
            "_____________________________________\n",
            "MAE: 703.4320311215704\n",
            "MSE: 1664555.1683189564\n",
            "RMSE: 1290.17640976688\n",
            "R2 Square 0.8954407986784152\n"
          ],
          "name": "stdout"
        }
      ]
    },
    {
      "cell_type": "code",
      "metadata": {
        "colab": {
          "base_uri": "https://localhost:8080/",
          "height": 225
        },
        "id": "RcyORTavHaK6",
        "outputId": "411df735-0ac8-437a-f916-b266ece45d8c"
      },
      "source": [
        "results_df_2 = pd.DataFrame(data=[[\"Artficial Neural Network\", *evaluate(y_test, test_pred), 0]], \r\n",
        "                            columns=['Model', 'MAE', 'MSE', 'RMSE', 'R2 Square', 'Cross Validation'])\r\n",
        "results_df = results_df.append(results_df_2, ignore_index=True)\r\n",
        "results_df"
      ],
      "execution_count": 52,
      "outputs": [
        {
          "output_type": "execute_result",
          "data": {
            "text/html": [
              "<div>\n",
              "<style scoped>\n",
              "    .dataframe tbody tr th:only-of-type {\n",
              "        vertical-align: middle;\n",
              "    }\n",
              "\n",
              "    .dataframe tbody tr th {\n",
              "        vertical-align: top;\n",
              "    }\n",
              "\n",
              "    .dataframe thead th {\n",
              "        text-align: right;\n",
              "    }\n",
              "</style>\n",
              "<table border=\"1\" class=\"dataframe\">\n",
              "  <thead>\n",
              "    <tr style=\"text-align: right;\">\n",
              "      <th></th>\n",
              "      <th>Model</th>\n",
              "      <th>MAE</th>\n",
              "      <th>MSE</th>\n",
              "      <th>RMSE</th>\n",
              "      <th>R2 Square</th>\n",
              "      <th>Cross Validation</th>\n",
              "    </tr>\n",
              "  </thead>\n",
              "  <tbody>\n",
              "    <tr>\n",
              "      <th>0</th>\n",
              "      <td>Linear Regression</td>\n",
              "      <td>858.708470</td>\n",
              "      <td>1.825913e+06</td>\n",
              "      <td>1351.263480</td>\n",
              "      <td>0.885140</td>\n",
              "      <td>-4.156252</td>\n",
              "    </tr>\n",
              "    <tr>\n",
              "      <th>1</th>\n",
              "      <td>Robust Regression</td>\n",
              "      <td>1051.511180</td>\n",
              "      <td>4.467657e+06</td>\n",
              "      <td>2113.683277</td>\n",
              "      <td>0.718959</td>\n",
              "      <td>-45.974848</td>\n",
              "    </tr>\n",
              "    <tr>\n",
              "      <th>2</th>\n",
              "      <td>Ridge Regression</td>\n",
              "      <td>868.238089</td>\n",
              "      <td>1.829351e+06</td>\n",
              "      <td>1352.534992</td>\n",
              "      <td>0.884923</td>\n",
              "      <td>-4.159616</td>\n",
              "    </tr>\n",
              "    <tr>\n",
              "      <th>3</th>\n",
              "      <td>Lasso Regression</td>\n",
              "      <td>951.849716</td>\n",
              "      <td>2.106212e+06</td>\n",
              "      <td>1451.279380</td>\n",
              "      <td>0.867507</td>\n",
              "      <td>-4.171790</td>\n",
              "    </tr>\n",
              "    <tr>\n",
              "      <th>4</th>\n",
              "      <td>Elastic Net Regression</td>\n",
              "      <td>899.740964</td>\n",
              "      <td>1.867291e+06</td>\n",
              "      <td>1366.488747</td>\n",
              "      <td>0.882537</td>\n",
              "      <td>-4.958919</td>\n",
              "    </tr>\n",
              "    <tr>\n",
              "      <th>5</th>\n",
              "      <td>Artficial Neural Network</td>\n",
              "      <td>690.776871</td>\n",
              "      <td>1.357627e+06</td>\n",
              "      <td>1165.172700</td>\n",
              "      <td>0.914598</td>\n",
              "      <td>0.000000</td>\n",
              "    </tr>\n",
              "  </tbody>\n",
              "</table>\n",
              "</div>"
            ],
            "text/plain": [
              "                      Model          MAE  ...  R2 Square  Cross Validation\n",
              "0         Linear Regression   858.708470  ...   0.885140         -4.156252\n",
              "1         Robust Regression  1051.511180  ...   0.718959        -45.974848\n",
              "2          Ridge Regression   868.238089  ...   0.884923         -4.159616\n",
              "3          Lasso Regression   951.849716  ...   0.867507         -4.171790\n",
              "4    Elastic Net Regression   899.740964  ...   0.882537         -4.958919\n",
              "5  Artficial Neural Network   690.776871  ...   0.914598          0.000000\n",
              "\n",
              "[6 rows x 6 columns]"
            ]
          },
          "metadata": {
            "tags": []
          },
          "execution_count": 52
        }
      ]
    },
    {
      "cell_type": "markdown",
      "metadata": {
        "id": "HEmufqT3Hk1O"
      },
      "source": [
        "Model Compared"
      ]
    },
    {
      "cell_type": "code",
      "metadata": {
        "colab": {
          "base_uri": "https://localhost:8080/",
          "height": 500
        },
        "id": "JzRvBy6YHnnn",
        "outputId": "057c84cb-4585-4149-ff57-39d2df030d1d"
      },
      "source": [
        "results_df.set_index('Model', inplace=True)\r\n",
        "results_df['R2 Square'].plot(kind='barh', figsize=(12, 8))"
      ],
      "execution_count": 53,
      "outputs": [
        {
          "output_type": "execute_result",
          "data": {
            "text/plain": [
              "<matplotlib.axes._subplots.AxesSubplot at 0x7f9dd4018390>"
            ]
          },
          "metadata": {
            "tags": []
          },
          "execution_count": 53
        },
        {
          "output_type": "display_data",
          "data": {
            "image/png": "[encoded data removed]",
            "text/plain": [
              "<Figure size 864x576 with 1 Axes>"
            ]
          },
          "metadata": {
            "tags": [],
            "needs_background": "light"
          }
        }
      ]
    }
  ]
}